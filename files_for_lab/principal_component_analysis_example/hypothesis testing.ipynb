{
 "cells": [
  {
   "cell_type": "markdown",
   "metadata": {},
   "source": [
    "1. Null Hypothesis (H₀): There is no significant difference in the mean systolic blood pressure between the sample and the population. In other words, the population mean systolic blood pressure is 120 mm Hg.\n",
    "2. Alternative Hypothesis (H₁): The mean systolic blood pressure in the sample is different from the population mean"
   ]
  },
  {
   "cell_type": "code",
   "execution_count": 4,
   "metadata": {},
   "outputs": [
    {
     "name": "stdout",
     "output_type": "stream",
     "text": [
      "The t-statistic is: 4.761904761904759\n",
      "Critical value (two-tailed, 5% significance): 1.9842169515086827\n"
     ]
    }
   ],
   "source": [
    "import numpy as np\n",
    "from scipy import stats\n",
    "\n",
    "sample_mean = 130.1\n",
    "population_mean = 120\n",
    "sample_std = 21.21\n",
    "sample_size = 100\n",
    "\n",
    "t_statistic = (sample_mean - population_mean) / (sample_std / np.sqrt(sample_size))\n",
    "\n",
    "print(f'The t-statistic is: {t_statistic}')\n",
    "\n",
    "alpha = 0.05\n",
    "df = sample_size - 1\n",
    "critical_value = stats.t.ppf(1 - alpha/2, df)\n",
    "\n",
    "print(f'Critical value (two-tailed, 5% significance): {critical_value}')"
   ]
  },
  {
   "cell_type": "code",
   "execution_count": null,
   "metadata": {},
   "outputs": [],
   "source": []
  },
  {
   "cell_type": "code",
   "execution_count": null,
   "metadata": {},
   "outputs": [],
   "source": []
  },
  {
   "cell_type": "code",
   "execution_count": null,
   "metadata": {},
   "outputs": [],
   "source": []
  }
 ],
 "metadata": {
  "kernelspec": {
   "display_name": "base",
   "language": "python",
   "name": "python3"
  },
  "language_info": {
   "codemirror_mode": {
    "name": "ipython",
    "version": 3
   },
   "file_extension": ".py",
   "mimetype": "text/x-python",
   "name": "python",
   "nbconvert_exporter": "python",
   "pygments_lexer": "ipython3",
   "version": "3.12.7"
  }
 },
 "nbformat": 4,
 "nbformat_minor": 2
}
